{
 "cells": [
  {
   "cell_type": "markdown",
   "id": "d2d590db-668f-42af-a7d7-e3bcaa518989",
   "metadata": {},
   "source": [
    "Advanced Encryption Standard (AES) Algorithm:"
   ]
  },
  {
   "cell_type": "code",
   "execution_count": 1,
   "id": "a7519017-22bd-42db-b8a0-af698cc9eb62",
   "metadata": {},
   "outputs": [
    {
     "name": "stdin",
     "output_type": "stream",
     "text": [
      "Enter plaintext:  Hello! Varshitha\n",
      "Enter 16-char AES key:  mysecretkey12345\n"
     ]
    },
    {
     "name": "stdout",
     "output_type": "stream",
     "text": [
      "Encrypted AES: 7ns9pNoPS9z+j6RWJHiY74Ho7BlbTNJEt5/feY6i7PM=\n",
      "Decrypted AES: Hello! Varshitha\n"
     ]
    }
   ],
   "source": [
    "from Crypto.Cipher import AES\n",
    "from Crypto.Util.Padding import pad, unpad\n",
    "import base64\n",
    "\n",
    "# AES encryption function\n",
    "def encrypt_aes(key, data):\n",
    "    cipher = AES.new(key, AES.MODE_ECB)  # ECB mode (simple, not secure in real-world)\n",
    "    padded_data = pad(data.encode(), AES.block_size)  # Pad plaintext\n",
    "    encrypted = cipher.encrypt(padded_data)\n",
    "    return base64.b64encode(encrypted).decode('utf-8')\n",
    "\n",
    "# AES decryption function\n",
    "def decrypt_aes(key, encrypted_data):\n",
    "    cipher = AES.new(key, AES.MODE_ECB)\n",
    "    encrypted_data = base64.b64decode(encrypted_data)\n",
    "    decrypted = unpad(cipher.decrypt(encrypted_data), AES.block_size)\n",
    "    return decrypted.decode('utf-8')\n",
    "\n",
    "# --------- Run with Input ---------\n",
    "plaintext = input(\"Enter plaintext: \")\n",
    "user_key = input(\"Enter 16-char AES key: \")\n",
    "\n",
    "# Ensure the key is exactly 16 bytes\n",
    "if len(user_key) != 16:\n",
    "    raise ValueError(\"Key must be exactly 16 characters for AES-128!\")\n",
    "\n",
    "key = user_key.encode()\n",
    "\n",
    "# Encrypt\n",
    "encrypted = encrypt_aes(key, plaintext)\n",
    "print(\"Encrypted AES:\", encrypted)\n",
    "\n",
    "# Decrypt\n",
    "decrypted = decrypt_aes(key, encrypted)\n",
    "print(\"Decrypted AES:\", decrypted)"
   ]
  },
  {
   "cell_type": "markdown",
   "id": "68ea7923-bb4a-461f-bbcd-5c40785aaf67",
   "metadata": {},
   "source": [
    "Rivest Cipher 4 (RC4) Algorithm:"
   ]
  },
  {
   "cell_type": "code",
   "execution_count": 2,
   "id": "f80a7878-58a1-4659-8545-ecce94735972",
   "metadata": {},
   "outputs": [
    {
     "name": "stdin",
     "output_type": "stream",
     "text": [
      "Enter RC4 key:  mysecretkey\n",
      "Enter plaintext:  Hello! Varshitha\n"
     ]
    },
    {
     "name": "stdout",
     "output_type": "stream",
     "text": [
      "Encrypted RC4: A2 B6 14 D4 AF 68 1E C6 A1 7F 4D 55 93 36 AC DF\n",
      "Decrypted RC4: Hello! Varshitha\n"
     ]
    }
   ],
   "source": [
    "def rc4(key, data):\n",
    "    # Key Scheduling Algorithm (KSA)\n",
    "    S = list(range(256))\n",
    "    j = 0\n",
    "    for i in range(256):\n",
    "        j = (j + S[i] + key[i % len(key)]) % 256\n",
    "        S[i], S[j] = S[j], S[i]\n",
    "\n",
    "    # Pseudo-Random Generation Algorithm (PRGA)\n",
    "    i = j = 0\n",
    "    result = []\n",
    "    for byte in data:\n",
    "        i = (i + 1) % 256\n",
    "        j = (j + S[i]) % 256\n",
    "        S[i], S[j] = S[j], S[i]\n",
    "        K = S[(S[i] + S[j]) % 256]\n",
    "        result.append(byte ^ K)  # XOR operation with key stream\n",
    "    return bytes(result)\n",
    "\n",
    "# --------- Run with Input ---------\n",
    "key = input(\"Enter RC4 key: \").encode()   # User key (converted to bytes)\n",
    "plaintext = input(\"Enter plaintext: \")\n",
    "\n",
    "# Encrypt\n",
    "encrypted = rc4(key, plaintext.encode())\n",
    "encrypted_hex = \" \".join(f\"{b:02X}\" for b in encrypted)  # space-separated uppercase hex\n",
    "print(\"Encrypted RC4:\", encrypted_hex)\n",
    "\n",
    "# Decrypt\n",
    "decrypted = rc4(key, encrypted)\n",
    "print(\"Decrypted RC4:\", decrypted.decode())"
   ]
  }
 ],
 "metadata": {
  "kernelspec": {
   "display_name": "Python [conda env:base] *",
   "language": "python",
   "name": "conda-base-py"
  },
  "language_info": {
   "codemirror_mode": {
    "name": "ipython",
    "version": 3
   },
   "file_extension": ".py",
   "mimetype": "text/x-python",
   "name": "python",
   "nbconvert_exporter": "python",
   "pygments_lexer": "ipython3",
   "version": "3.13.5"
  }
 },
 "nbformat": 4,
 "nbformat_minor": 5
}
